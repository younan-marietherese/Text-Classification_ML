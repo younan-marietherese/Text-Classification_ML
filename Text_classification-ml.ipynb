{
 "cells": [
  {
   "cell_type": "markdown",
   "metadata": {},
   "source": [
    "## Import Libraries"
   ]
  },
  {
   "cell_type": "markdown",
   "metadata": {},
   "source": [
    "## 1 - Packages ##\n",
    "\n",
    "First, let's run the cell below to import all the packages that you will need during this assignment. \n",
    "- [numpy](www.numpy.org) is the fundamental package for scientific computing with Python.\n",
    "- [sklearn](http://www.h5py.org) is a library that includes tools for data preprocessing, modeling, evaluation, and more.\n",
    "\n",
    "- [nltk](https://pypi.org/project/nltk/): The Natural Language Toolkit, used for various natural language processing tasks such as tokenization and stemming.\n",
    "\n",
    "- stopwords, word_tokenize, PorterStemmer: Tools from NLTK for handling natural language tasks, including stopword removal, tokenization, and stemming.\n",
    "\n",
    "- [pandas](https://pypi.org/project/pandas/): A powerful library for data manipulation and analysis, providing data structures like DataFrames.\n",
    "- [matplotlib](http://matplotlib.org) is a famous library to plot graphs in Python.\n",
    "\n",
    "- [train_test_split](https://scikit-learn.org/stable/modules/generated/sklearn.model_selection.train_test_split.html): A function from scikit-learn to split datasets into training and testing sets for model evaluation.\n",
    "\n",
    "- [CountVectorizer](https://scikit-learn.org/stable/modules/generated/sklearn.feature_extraction.text.CountVectorizer.html): Converts a collection of text documents to a matrix of token counts, a common step in text processing.\n",
    "\n",
    "- [learning_curve](https://scikit-learn.org/stable/modules/generated/sklearn.model_selection.learning_curve.html): Generates learning curves, which visualize how a model's performance changes with training set size.\n",
    "\n",
    "- [TfidfVectorizer](https://scikit-learn.org/stable/modules/generated/sklearn.feature_extraction.text.TfidfVectorizer.html): Converts a collection of raw documents to a matrix of TF-IDF (Term Frequency-Inverse Document Frequency) features.\n",
    "\n",
    "- f1_score: A metric for assessing a model's accuracy, particularly used in classification tasks.\n",
    "\n",
    "- accuracy_score: Measures the accuracy of a classification model by comparing predicted and actual labels.\n",
    "\n"
   ]
  },
  {
   "cell_type": "code",
   "execution_count": 1,
   "metadata": {},
   "outputs": [],
   "source": [
    "# importing libraries needed fot this assignment \n",
    "# to install sklearn: pip install scikit-learn\n",
    "# to install nltk: pip install nltk\n",
    "import nltk\n",
    "import sklearn\n",
    "import numpy as np\n",
    "import pandas as pd\n",
    "import matplotlib.pyplot as plt\n",
    "\n",
    "from sklearn.model_selection import train_test_split\n",
    "from sklearn.feature_extraction.text import CountVectorizer\n",
    "from sklearn.model_selection import learning_curve\n",
    "from sklearn.feature_extraction.text import TfidfVectorizer\n",
    "from sklearn.metrics import f1_score\n",
    "from sklearn.metrics import accuracy_score\n",
    "\n",
    "from nltk.corpus import stopwords\n",
    "from nltk.tokenize import word_tokenize\n",
    "from nltk.stem import PorterStemmer "
   ]
  },
  {
   "cell_type": "markdown",
   "metadata": {},
   "source": [
    "## Load the Data"
   ]
  },
  {
   "cell_type": "markdown",
   "metadata": {},
   "source": [
    "Run the below cell to load your `Tweets.csv` Dataset\n",
    "The dataset named 'Tweets.csv' is loaded into the DataFrame `df` using `pd.read_csv`. The dataset contains two columns `'airline_sentiment'` (indicating the sentiment of the tweet) and `'text'` (containing the actual tweet content)."
   ]
  },
  {
   "cell_type": "code",
   "execution_count": 2,
   "metadata": {},
   "outputs": [
    {
     "data": {
      "text/html": [
       "<div>\n",
       "<style scoped>\n",
       "    .dataframe tbody tr th:only-of-type {\n",
       "        vertical-align: middle;\n",
       "    }\n",
       "\n",
       "    .dataframe tbody tr th {\n",
       "        vertical-align: top;\n",
       "    }\n",
       "\n",
       "    .dataframe thead th {\n",
       "        text-align: right;\n",
       "    }\n",
       "</style>\n",
       "<table border=\"1\" class=\"dataframe\">\n",
       "  <thead>\n",
       "    <tr style=\"text-align: right;\">\n",
       "      <th></th>\n",
       "      <th>airline_sentiment</th>\n",
       "      <th>text</th>\n",
       "    </tr>\n",
       "  </thead>\n",
       "  <tbody>\n",
       "    <tr>\n",
       "      <th>0</th>\n",
       "      <td>neutral</td>\n",
       "      <td>@VirginAmerica What @dhepburn said.</td>\n",
       "    </tr>\n",
       "    <tr>\n",
       "      <th>1</th>\n",
       "      <td>positive</td>\n",
       "      <td>@VirginAmerica plus you've added commercials t...</td>\n",
       "    </tr>\n",
       "    <tr>\n",
       "      <th>2</th>\n",
       "      <td>neutral</td>\n",
       "      <td>@VirginAmerica I didn't today... Must mean I n...</td>\n",
       "    </tr>\n",
       "    <tr>\n",
       "      <th>3</th>\n",
       "      <td>negative</td>\n",
       "      <td>@VirginAmerica it's really aggressive to blast...</td>\n",
       "    </tr>\n",
       "    <tr>\n",
       "      <th>4</th>\n",
       "      <td>negative</td>\n",
       "      <td>@VirginAmerica and it's a really big bad thing...</td>\n",
       "    </tr>\n",
       "    <tr>\n",
       "      <th>5</th>\n",
       "      <td>negative</td>\n",
       "      <td>@VirginAmerica seriously would pay $30 a fligh...</td>\n",
       "    </tr>\n",
       "    <tr>\n",
       "      <th>6</th>\n",
       "      <td>positive</td>\n",
       "      <td>@VirginAmerica yes, nearly every time I fly VX...</td>\n",
       "    </tr>\n",
       "    <tr>\n",
       "      <th>7</th>\n",
       "      <td>neutral</td>\n",
       "      <td>@VirginAmerica Really missed a prime opportuni...</td>\n",
       "    </tr>\n",
       "    <tr>\n",
       "      <th>8</th>\n",
       "      <td>positive</td>\n",
       "      <td>@virginamerica Well, I didn'tÛ_but NOW I DO! :-D</td>\n",
       "    </tr>\n",
       "    <tr>\n",
       "      <th>9</th>\n",
       "      <td>positive</td>\n",
       "      <td>@VirginAmerica it was amazing, and arrived an ...</td>\n",
       "    </tr>\n",
       "  </tbody>\n",
       "</table>\n",
       "</div>"
      ],
      "text/plain": [
       "  airline_sentiment                                               text\n",
       "0           neutral                @VirginAmerica What @dhepburn said.\n",
       "1          positive  @VirginAmerica plus you've added commercials t...\n",
       "2           neutral  @VirginAmerica I didn't today... Must mean I n...\n",
       "3          negative  @VirginAmerica it's really aggressive to blast...\n",
       "4          negative  @VirginAmerica and it's a really big bad thing...\n",
       "5          negative  @VirginAmerica seriously would pay $30 a fligh...\n",
       "6          positive  @VirginAmerica yes, nearly every time I fly VX...\n",
       "7           neutral  @VirginAmerica Really missed a prime opportuni...\n",
       "8          positive  @virginamerica Well, I didn'tÛ_but NOW I DO! :-D\n",
       "9          positive  @VirginAmerica it was amazing, and arrived an ..."
      ]
     },
     "execution_count": 2,
     "metadata": {},
     "output_type": "execute_result"
    }
   ],
   "source": [
    "df = pd.read_csv('Tweets.csv', encoding='latin')\n",
    "df.head(10)"
   ]
  },
  {
   "cell_type": "markdown",
   "metadata": {},
   "source": [
    "## Split the data into train (60%), validation (20%) and test (20%)"
   ]
  },
  {
   "cell_type": "markdown",
   "metadata": {},
   "source": [
    "In the below code, you should split your dataset into 60% training, 20% validation, and 20% testing\n",
    "\n",
    "The data will be divided into the following subsets:\n",
    "\n",
    "* `60% Training Data`: This subset is designated for training your model. \n",
    "\n",
    "* `20% Validation Data`: This subset is crucial for parameter tuning. Use it to fine-tune your model's parameters and optimize its performance.\n",
    "\n",
    "* `20% Testing Data`: Reserve this portion for testing your model with the best-tuned parameters. It serves as an unbiased evaluation to assess the model's generalization on unseen data.\n",
    "\n"
   ]
  },
  {
   "cell_type": "code",
   "execution_count": 3,
   "metadata": {},
   "outputs": [
    {
     "name": "stdout",
     "output_type": "stream",
     "text": [
      "Number of training examples: 8784\n",
      "Number of testing examples: 2928\n",
      "Number of validating examples: 2928\n"
     ]
    }
   ],
   "source": [
    "#splitting training set and testing set to 80%, 20%\n",
    "\n",
    "###### YOUR CODE STARTS HERE ##### (~ approx 1 line of code)\n",
    "X_train, X_test, Y_train, Y_test = train_test_split(df['text'], df['airline_sentiment'], test_size = 0.2)\n",
    "###### YOUR CODE ENDS HERE #####\n",
    "\n",
    "# training set is 80% now, we split the training and validation where each should be 60% and 20% respectively\n",
    "# i.e. validation data is 1/4 the training data which is equivalent to 25% of it\n",
    "\n",
    "###### YOUR CODE STARTS HERE ##### (~ approx 1 line of code)\n",
    "X_train, X_val, Y_train, Y_val = train_test_split(X_train, Y_train, test_size = 0.25)\n",
    "###### YOUR CODE ENDS HERE #####\n",
    "\n",
    "\n",
    "print (f\"Number of training examples: {len(X_train)}\")\n",
    "print (f\"Number of testing examples: {len(X_test)}\")\n",
    "print (f\"Number of validating examples: {len(X_val)}\")"
   ]
  },
  {
   "cell_type": "markdown",
   "metadata": {},
   "source": [
    "**Expected Output for X_train, X_test and X_val**: \n",
    "<table style=\"width:15%\">\n",
    "  <tr>\n",
    "    <td>**X_train**</td>\n",
    "    <td> 8784 </td> \n",
    "  </tr>\n",
    "  \n",
    "  <tr>\n",
    "    <td>**X_test**</td>\n",
    "    <td> 2928 </td> \n",
    "  </tr>\n",
    "  \n",
    "  <tr>\n",
    "    <td>**X_val**</td>\n",
    "    <td> 2928 </td> \n",
    "  </tr>\n",
    "  \n",
    "</table>\n"
   ]
  },
  {
   "cell_type": "code",
   "execution_count": 4,
   "metadata": {},
   "outputs": [
    {
     "name": "stdout",
     "output_type": "stream",
     "text": [
      "\n",
      "Your values are correct! Continue with the rest of your code.\n"
     ]
    }
   ],
   "source": [
    "assert len(X_train) == 8784\n",
    "assert len(X_test) == 2928\n",
    "assert len(X_val) == 2928\n",
    "\n",
    "print(\"\\nYour values are correct! Continue with the rest of your code.\")"
   ]
  },
  {
   "cell_type": "markdown",
   "metadata": {},
   "source": [
    "## Linear Regression Classifier on Binary Features"
   ]
  },
  {
   "cell_type": "markdown",
   "metadata": {},
   "source": [
    "#### Text Classification with CountVectorizer and RidgeClassifier\n",
    "\n",
    "In this part , you will implement text classification using `CountVectorizer` for feature extraction and `RidgeClassifier` as a linear regression model.\n",
    "\n",
    "`BinaryVectorizer` is a special case of the `CountVectorizer` in `scikit-learn`. In this configuration, the presence of each term is encoded as 1, and its absence as 0. This is beneficial when the focus is solely on determining whether a term is present or not, without considering its frequency.\n",
    "\n",
    "Example: \n",
    "```python\n",
    "from sklearn.feature_extraction.text import CountVectorizer\n",
    "\n",
    "# Create BinaryVectorizer\n",
    "BinaryVectorizer = CountVectorizer(binary=True)\n",
    "\n",
    "# Example data\n",
    "corpus = ['This is an example document.',\n",
    "          'Another document for illustration.',\n",
    "          'This document is a binary example.']\n",
    "\n",
    "# Fit and transform with BinaryVectorizer\n",
    "X_binary = BinaryVectorizer.fit_transform(corpus)\n",
    "```\n",
    "The resulting binary feature matrix for the given example data would look like this:\n",
    "\n",
    "$$ \\begin{bmatrix}\n",
    "1 & 1 & 1 & 1 & 0 & 0 & 0 & 0 \\\\\n",
    "0 & 0 & 1 & 1 & 1 & 0 & 0 & 0 \\\\\n",
    "1 & 1 & 1 & 0 & 0 & 1 & 1 & 1 \\\\\n",
    "\\end{bmatrix}$$\n",
    "\n",
    "\n",
    "\n",
    "To create your binary features, check the documentation provided in sklearn: <a href=\"https://scikit-learn.org/stable/modules/generated/sklearn.feature_extraction.text.CountVectorizer.html \"> `Count Vectorizer`</a>\n",
    "\n",
    "\n",
    "For Linear Regression Classifier, you can use <a href=\"https://scikit-learn.org/stable/modules/generated/sklearn.linear_model.RidgeClassifier.html\"> `Ridge Classifier`</a>\n"
   ]
  },
  {
   "cell_type": "code",
   "execution_count": 5,
   "metadata": {},
   "outputs": [
    {
     "name": "stdout",
     "output_type": "stream",
     "text": [
      "BinaryVectorizer instance: CountVectorizer(binary=True)\n"
     ]
    }
   ],
   "source": [
    "###  YOUR CODE STARTS HERE ### (≈ approx 3 lines of code)\n",
    "\n",
    "# create binary features \n",
    "BinaryVectorizer= CountVectorizer(binary=True)\n",
    "\n",
    "# fit and transform train data\n",
    "X_train_vectorized = BinaryVectorizer.fit_transform(X_train)\n",
    "\n",
    "# create your RidgeClassifier model\n",
    "from sklearn.linear_model import RidgeClassifier\n",
    "reg = RidgeClassifier()\n",
    "\n",
    "print (f\"BinaryVectorizer instance: {(BinaryVectorizer)}\")\n",
    "\n",
    "### YOUR CODE ENDS HERE ###"
   ]
  },
  {
   "cell_type": "markdown",
   "metadata": {},
   "source": [
    "**Expected Output for BinaryVectorizer Instance**: \n",
    "<table style=\"width:50%\">\n",
    "  <tr>\n",
    "    <td>**BinaryVectorizer instance: **</td>\n",
    "    <td> CountVectorizer(binary=True) </td> \n",
    "  </tr>\n",
    "  \n",
    "</table>\n"
   ]
  },
  {
   "cell_type": "code",
   "execution_count": 6,
   "metadata": {},
   "outputs": [
    {
     "name": "stdout",
     "output_type": "stream",
     "text": [
      "Your code executed successfully! Continue with the rest of your code.\n"
     ]
    }
   ],
   "source": [
    "assert X_train_vectorized.shape[0] == len(X_train), \"Mismatch in the number of examples\"\n",
    "assert BinaryVectorizer.binary, \"Binary feature should be True\"\n",
    "\n",
    "print(\"Your code executed successfully! Continue with the rest of your code.\")"
   ]
  },
  {
   "cell_type": "markdown",
   "metadata": {},
   "source": [
    "## Learning Curve"
   ]
  },
  {
   "cell_type": "markdown",
   "metadata": {},
   "source": [
    "Plot the learning curve and diagnose whether you suffer from high bias or high variance, neither or both.\n",
    "\n",
    "**Function: `plot_learning_curve`**\n",
    "\n",
    "This function is designed to generate and plot a learning curve for a machine learning model using the `learning_curve` function from scikit-learn. A learning curve provides insights into the performance of a model as the size of the training set increases.\n",
    "\n",
    "**Parameters:**\n",
    "- `estimator`: The machine learning model or algorithm for which the learning curve is to be plotted.\n",
    "- `X`: The feature matrix of the dataset.\n",
    "- `y`: The target labels of the dataset.\n",
    "- `title`: The title for the learning curve plot.\n",
    "\n",
    "**Returns:**\n",
    "- The function generates and displays a learning curve plot.\n",
    "\n",
    "**Steps:**\n",
    "1. **Learning Curve Calculation:**\n",
    "   - The `learning_curve` function is utilized to compute the training and validation scores across varying training set sizes. \n",
    "\n",
    "2. **Data Processing:**\n",
    "   - The mean and standard deviation of the training scores, validation scores, and fit times are calculated.\n",
    "\n",
    "3. **Learning Curve Plotting:**\n",
    "   - The function plots the learning curve with the training set size on the x-axis and the model performance (in terms of error rate) on the y-axis.\n",
    "   - Two curves are plotted: one for the training set (`Ein`) and another for the validation set (`Eval`).\n",
    "   - The color coding distinguishes the curves, with red representing the validation set and green representing the training set.\n",
    "   - The legend is added to identify the curves, and the plot is displayed.\n",
    "\n",
    "**Usage:**\n",
    "- To utilize this function, pass your machine learning model (`estimator`), feature matrix (`X`), target labels (`y`), and a descriptive title (`title`) for the learning curve.\n",
    "\n",
    "**Example:**\n",
    "```python\n",
    "# Assuming 'model' is your machine learning model and 'X_train', 'y_train' are your training data\n",
    "plot_learning_curve(model, X_train, y_train, \"Learning Curve for My Model\")\n"
   ]
  },
  {
   "cell_type": "code",
   "execution_count": 7,
   "metadata": {},
   "outputs": [],
   "source": [
    "def plot_learning_curve(estimator, X, y, title):\n",
    "    '''check scikit-learn documentation'''\n",
    "    train_sizes, train_scores, test_scores, fit_times, _ = \\\n",
    "        learning_curve(estimator, X, y,\n",
    "                       return_times=True)\n",
    "    \n",
    "    train_scores_mean = np.mean(train_scores, axis=1)\n",
    "    train_scores_std = np.std(train_scores, axis=1)\n",
    "    test_scores_mean = np.mean(test_scores, axis=1)\n",
    "    test_scores_std = np.std(test_scores, axis=1)\n",
    "    fit_times_mean = np.mean(fit_times, axis=1)\n",
    "    fit_times_std = np.std(fit_times, axis=1)\n",
    "\n",
    "    # Plot learning curve\n",
    "    plt.grid()\n",
    "    plt.plot(train_sizes, 1 - test_scores_mean, 'o-', color=\"r\",\n",
    "                 label=\"Eval\")\n",
    "    plt.plot(train_sizes, 1 - train_scores_mean, 'o-', color=\"g\",\n",
    "                 label=\"Ein\")\n",
    "    plt.legend(loc=\"best\")\n",
    "    plt.title(title)\n",
    "    \n",
    "    plt.show()"
   ]
  },
  {
   "cell_type": "code",
   "execution_count": 8,
   "metadata": {},
   "outputs": [
    {
     "data": {
      "image/png": "[encoded data removed]",
      "text/plain": [
       "<Figure size 640x480 with 1 Axes>"
      ]
     },
     "metadata": {},
     "output_type": "display_data"
    }
   ],
   "source": [
    "#call the plot function \n",
    "#pass the RidgeClassifier model, binary features of the trianed data,\n",
    "#trained labels and a title for the graph as parameters\n",
    "\n",
    "### YOUR CODE STARTS HERE ### (≈ 1 lines of code)\n",
    "plot_learning_curve(estimator = reg, X = X_train_vectorized, y = Y_train, title = \"Ridge Classifier Learning Curve\")\n",
    "###  YOUR CODE ENDS HERE ###"
   ]
  },
  {
   "cell_type": "markdown",
   "metadata": {
    "collapsed": true,
    "jupyter": {
     "outputs_hidden": true
    }
   },
   "source": [
    "### Does your model exhibit signs of overfitting, underfitting, both, or neither when analyzing the learning curve? Provide a detailed explanation to support your assessment.\n",
    "###### <span style='color:green'> YOUR EXPLANATION STARTS HERE </span>\n",
    "The model suffers from overfitting.\n",
    "We can observe that there is a big gap between the training and validation curves and this gap persists for all given training data sizes. \n",
    "In addition, the model suffers from overfitting and high variance, since the training curve is much lower than the validation one. The training error is very small at the beginning, and as we increase the amount of training data, the training error increases and the validation error decreases (Eval curve doesn't flatten).\n",
    "So, since the validation curve is higher than the training curve and is decreasing slowly as the size of the training set increases; this shows that even if the model has learnt the training set well and performs well on it; it is not generalizing well to unseen or new data and thus will perform poorly when used on real data. "
   ]
  },
  {
   "cell_type": "markdown",
   "metadata": {},
   "source": []
  },
  {
   "cell_type": "markdown",
   "metadata": {},
   "source": [
    "## Linear Regression Classifier on tf-idf"
   ]
  },
  {
   "cell_type": "markdown",
   "metadata": {},
   "source": [
    "### Pre-process the Data"
   ]
  },
  {
   "cell_type": "markdown",
   "metadata": {},
   "source": [
    "Run the below code snippet which removes stop words and applies stemming using the PorterStemmer from NLTK.\n",
    "\n",
    "- **NLTK Downloads:**\n",
    "  - `nltk.download('stopwords')`: Downloads the set of stop words in English.\n",
    "  - `nltk.download('punkt')`: Downloads the Punkt tokenizer model for tokenization.\n",
    "\n",
    "- **Preprocessing Function:**\n",
    "  - The function `preprocess(X)` takes a list of sentences `X` as input and performs the following steps:\n",
    "    1. Initializes a `PorterStemmer` (`ps`) for stemming and creates a set of English stop words.\n",
    "    2. Iterates through each sentence in `X` and tokenizes it using NLTK's `word_tokenize`.\n",
    "    3. Removes stop words and applies stemming to each word in the sentence.\n",
    "    4. Constructs a preprocessed sentence by concatenating the stemmed words.\n",
    "    5. Appends the preprocessed sentence to `X_preprocessed`.\n",
    "\n",
    "- **Preprocess Xtrain, Xval, and Xtest:**\n",
    "  - The code calls the `preprocess` function on the training (`X_train`), validation (`X_val`), and test (`X_test`) datasets to obtain preprocessed versions:\n",
    "    - `X_train_preprocessed`\n",
    "    - `X_val_preprocessed`\n",
    "    - `X_test_preprocessed`\n",
    "\n",
    "The resulting preprocessed datasets are expected to be used in the following tasks in the next parts of this assignment"
   ]
  },
  {
   "cell_type": "code",
   "execution_count": 9,
   "metadata": {},
   "outputs": [
    {
     "name": "stdout",
     "output_type": "stream",
     "text": [
      "Requirement already satisfied: nltk in c:\\users\\toshiba\\anaconda\\lib\\site-packages (3.8.1)\n",
      "Requirement already satisfied: click in c:\\users\\toshiba\\anaconda\\lib\\site-packages (from nltk) (8.0.4)\n",
      "Requirement already satisfied: joblib in c:\\users\\toshiba\\anaconda\\lib\\site-packages (from nltk) (1.2.0)\n",
      "Requirement already satisfied: regex>=2021.8.3 in c:\\users\\toshiba\\anaconda\\lib\\site-packages (from nltk) (2022.7.9)\n",
      "Requirement already satisfied: tqdm in c:\\users\\toshiba\\anaconda\\lib\\site-packages (from nltk) (4.65.0)\n",
      "Requirement already satisfied: colorama in c:\\users\\toshiba\\anaconda\\lib\\site-packages (from click->nltk) (0.4.6)\n"
     ]
    }
   ],
   "source": [
    "!pip install nltk"
   ]
  },
  {
   "cell_type": "code",
   "execution_count": 11,
   "metadata": {},
   "outputs": [
    {
     "name": "stderr",
     "output_type": "stream",
     "text": [
      "[nltk_data] Downloading package stopwords to\n",
      "[nltk_data]     C:\\Users\\Toshiba\\AppData\\Roaming\\nltk_data...\n",
      "[nltk_data]   Package stopwords is already up-to-date!\n",
      "[nltk_data] Downloading package punkt to\n",
      "[nltk_data]     C:\\Users\\Toshiba\\AppData\\Roaming\\nltk_data...\n",
      "[nltk_data]   Package punkt is already up-to-date!\n"
     ]
    },
    {
     "name": "stdout",
     "output_type": "stream",
     "text": [
      "Number of training examples: 8784\n",
      "Number of testing examples: 2928\n",
      "Number of validating examples: 2928\n"
     ]
    }
   ],
   "source": [
    "# removing stop words and stemming using PorterStemmer\n",
    "nltk.download('stopwords')\n",
    "nltk.download('punkt')\n",
    "def preprocess(X):\n",
    "    ps = PorterStemmer()\n",
    "    stop_words = set(stopwords.words('english'))\n",
    "    X_preprocessed = []\n",
    "    for sentence in X:\n",
    "        preprocessed_sentence = ''\n",
    "        word_tokens = word_tokenize(sentence) \n",
    "        for word in word_tokens:\n",
    "            if not word in stop_words: \n",
    "                preprocessed_sentence += ps.stem(word) + ' '\n",
    "        \n",
    "        X_preprocessed.append(preprocessed_sentence)\n",
    "\n",
    "    return X_preprocessed\n",
    "\n",
    "\n",
    "\n",
    "### YOUR CODE STARTS HERE ### (~ approx 3 lines)\n",
    "X_train_preprocessed = preprocess(X_train)\n",
    "X_val_preprocessed   = preprocess(X_val)\n",
    "X_test_preprocessed  = preprocess(X_test)\n",
    "\n",
    "\n",
    "print (f\"Number of training examples: {len(X_train_preprocessed)}\")\n",
    "print (f\"Number of testing examples: {len(X_test_preprocessed)}\")\n",
    "print (f\"Number of validating examples: {len(X_val_preprocessed)}\")\n",
    "\n",
    "### YOUR CODE EXPLANATION STARTS HERE ###\n",
    "#The Stop words removal are words that don't add something to a sentence (For example: the, and)\n",
    "#Stemming means take a word back to its root and origin "
   ]
  },
  {
   "cell_type": "markdown",
   "metadata": {},
   "source": [
    "**Expected Output for X_train_preprocessed, X_test_preprocessed and X_val_preprocessed**: \n",
    "<table style=\"width:25%\">\n",
    "  <tr>\n",
    "    <td>**X_train_preprocessed**</td>\n",
    "    <td> 8784 </td> \n",
    "  </tr>\n",
    "  \n",
    "  <tr>\n",
    "    <td>**X_test_preprocessed**</td>\n",
    "    <td> 2928 </td> \n",
    "  </tr>\n",
    "  \n",
    "  <tr>\n",
    "    <td>**X_val_preprocessed**</td>\n",
    "    <td> 2928 </td> \n",
    "  </tr>\n",
    "  \n",
    "</table>\n"
   ]
  },
  {
   "cell_type": "markdown",
   "metadata": {},
   "source": [
    "### TF-IDF Weighting"
   ]
  },
  {
   "cell_type": "markdown",
   "metadata": {},
   "source": [
    "\n",
    "In this part , you will implement text classification using `TF-IDF Vectorizer` for feature extraction and `RidgeClassifier` as a linear regression model.\n",
    "\n",
    "TF-IDF (Term Frequency-Inverse Document Frequency):\n",
    "\n",
    "1. Term Frequency (TF):\n",
    "\n",
    "Term Frequency represents how often a term (word) occurs in a document. It is calculated as the number of times a term appears in a document divided by the total number of terms in that document. \n",
    "<br/> \n",
    "<br/>\n",
    "$$ \\text{TF}(t, d) = \\frac{\\text{Number of times term } t \\text{ appears in document } d}{\\text{Total number of terms in document } d} \\$$\n",
    "\n",
    "\n",
    "2. Inverse Document Frequency (IDF): Inverse Document Frequency measures the importance of a term across a collection of documents. It is calculated as the logarithm of the total number of documents divided by the number of documents containing the term.\n",
    "<br/> \n",
    "<br/>\n",
    "$$\\text{IDF}(t, D) = \\log\\left(\\frac{\\text{Total number of documents in the collection } D}{\\text{Number of documents containing term } t}\\right) \\ $$\n",
    "\n",
    "3. TF-IDF Calculation: TF-IDF is the product of TF and IDF. It reflects the importance of a term in a specific document relative to its importance across all documents.\n",
    "\n",
    "$$\\text{TF-IDF}(t, d, D) = \\text{TF}(t, d) \\times \\text{IDF}(t, D) \n",
    "$$\n",
    "\n",
    "In this part of the assignment, the `TfidfVectorizer` is imported from `scikit-learn` to transform the text data into a TF-IDF feature matrix.\n",
    "\n",
    "The resulting TF-IDF matrix is then used as input to the `RidgeClassifier`, a linear regression model, for text classification.\n",
    "\n",
    "The combination of TF-IDF vectorization and a linear regression model allows the algorithm to learn the patterns in the text data and make predictions based on those patterns.\n",
    "\n",
    "Here's an example in Python: \n",
    "\n",
    "```python\n",
    "from sklearn.feature_extraction.text import TfidfVectorizer\n",
    "\n",
    "# Create TF-IDF Vectorizer\n",
    "TfidfVectorizer = TfidfVectorizer()\n",
    "\n",
    "# Example data\n",
    "corpus = ['This is a positive example.',\n",
    "          'Another positive document.',\n",
    "          'This document is negative.']\n",
    "\n",
    "# Fit and transform with TF-IDF Vectorizer\n",
    "X_tfidf = TfidfVectorizer.fit_transform(corpus)\n",
    "```\n",
    "The resulting TF-IDF feature matrix for the given example data would look like this: \n",
    "\n",
    "$$ \\begin{bmatrix}\n",
    "0.57 & 0.57 & 0.57 & 0.40 & 0.00 & 0.00 & 0.00 & 0.00 \\\\\n",
    "0.00 & 0.00 & 0.57 & 0.57 & 0.57 & 0.00 & 0.00 & 0.00 \\\\\n",
    "0.47 & 0.47 & 0.47 & 0.33 & 0.33 & 0.47 & 0.47 & 0.47 \\\\\n",
    "\\end{bmatrix} $$\n",
    "\n",
    "Each row corresponds to a document, and each column corresponds to a unique term in the corpus. The values in the matrix represent the TF-IDF scores, reflecting the importance of each term in each document relative to the entire corpus.\n",
    "\n"
   ]
  },
  {
   "cell_type": "markdown",
   "metadata": {},
   "source": [
    "\n",
    "In the below code, you should follow these steps:\n",
    "1. **Create TF-IDF Vectorizer:**\n",
    "Initialize a TF-IDF vectorizer, such as `TfidfVectorizer`, to convert text data into a matrix of TF-IDF features.\n",
    "2. **Fit and Transform Training Data:**\n",
    "Fit the TF-IDF Vectorizer on the preprocessed training data `X_train_preprocessed` to learn the vocabulary and transform it into a TF-IDF feature matrix.\n",
    "3. **Transform Test Data**:\n",
    "Use the pre-fitted TF-IDF Vectorizer to transform the preprocessed testing data `X_test_preprocessed` into a corresponding TF-IDF feature matrix.\n",
    "4. **Transform Validation Data:**\n",
    "Similarly, apply the pre-fitted TF-IDF Vectorizer to transform the validation data `X_val_preprocessed` into a TF-IDF feature matrix.\n",
    "\n",
    "\n",
    "For more info about TFIDF, check the documentation of <a href=\"https://scikit-learn.org/stable/modules/generated/sklearn.feature_extraction.text.TfidfVectorizer.html\">`Tfidf Vectorizer`</a>"
   ]
  },
  {
   "cell_type": "code",
   "execution_count": 12,
   "metadata": {},
   "outputs": [
    {
     "name": "stdout",
     "output_type": "stream",
     "text": [
      "Train Vocabulary size: 9460\n"
     ]
    }
   ],
   "source": [
    "### YOUR CODE STARTS HERE ### (≈ approx 4 lines of code)\n",
    "\n",
    "# create your TFID vectorize \n",
    "FreqVectorizer = TfidfVectorizer()\n",
    "# fit and transform the training data\n",
    "X_train_freq= FreqVectorizer.fit_transform(X_train_preprocessed)\n",
    "vocab_size_train = len(FreqVectorizer.vocabulary_)\n",
    "print(f\"Train Vocabulary size: {vocab_size_train}\")\n",
    "\n",
    "# transform X_test \n",
    "X_test_freq= FreqVectorizer.transform(X_test_preprocessed)\n",
    "# transform X_val\n",
    "X_val_freq= FreqVectorizer.transform(X_val_preprocessed)\n",
    "### YOUR CODE ENDS HERE ###"
   ]
  },
  {
   "cell_type": "markdown",
   "metadata": {},
   "source": [
    "**Expected Output for vocab_size_train**: \n",
    "<table style=\"width:30%\">\n",
    "  <tr>\n",
    "    <td>**Train Vocabulary size:**</td>\n",
    "    <td> 9389 </td> \n",
    "  </tr>\n",
    "\n",
    "  \n",
    "</table>"
   ]
  },
  {
   "cell_type": "code",
   "execution_count": 13,
   "metadata": {},
   "outputs": [
    {
     "name": "stdout",
     "output_type": "stream",
     "text": [
      "TF-IDF Vectorizer: TfidfVectorizer()\n",
      "Fit and transform assertions passed successfully.\n"
     ]
    }
   ],
   "source": [
    "assert isinstance(FreqVectorizer, TfidfVectorizer), \"FreqVectorizer is not an instance of TfidfVectorizer\"\n",
    "\n",
    "print(f\"TF-IDF Vectorizer: {FreqVectorizer}\")\n",
    "\n",
    "\n",
    "# Assert that fit_transform was applied to the training set\n",
    "assert X_train_freq.shape[1] == vocab_size_train, \"fit_transform was not applied to the training set\"\n",
    "\n",
    "# Assert that transform was applied to the validation set\n",
    "assert X_val_freq.shape[1] == vocab_size_train, \"transform was not applied consistently to the validation set\"\n",
    "\n",
    "# Assert that transform was applied to the test set\n",
    "assert X_test_freq.shape[1] == vocab_size_train, \"transform was not applied consistently to the test set\"\n",
    "\n",
    "# Print confirmation if assertions pass\n",
    "print(\"Fit and transform assertions passed successfully.\")"
   ]
  },
  {
   "cell_type": "markdown",
   "metadata": {},
   "source": [
    "### Train the model"
   ]
  },
  {
   "cell_type": "markdown",
   "metadata": {},
   "source": [
    "Train a linear regression using the tf-idf weights and use an $L_2$ regularizer. You should set the regularization parameter using the validation set. \n",
    "<br> \n",
    "Note: `alpha` parameter is used for L2 regularization in <a href=\"https://scikit-learn.org/stable/modules/generated/sklearn.linear_model.RidgeClassifier.html\"> Ridge Classifier</a>\n",
    "\n",
    "In the context of the Ridge Classifier in scikit-learn, the regularization parameter is denoted as `alpha`. The higher the `alpha`, the stronger the regularization. It's used to control the balance between fitting the training data well and keeping the weights small to avoid overfitting.\n",
    "\n",
    "$L_2$ regularization in linear regression adds a penalty for large weights, controlled by the regularization parameter $\\lambda$ (in scikit-learn, `alpha`). The regularization parameter is typically tuned using a validation set to find the optimal balance between fitting the training data and preventing overfitting.\n",
    "\n"
   ]
  },
  {
   "cell_type": "code",
   "execution_count": 13,
   "metadata": {},
   "outputs": [
    {
     "name": "stdout",
     "output_type": "stream",
     "text": [
      "Lambda 0.001:\taccuracy: 68.65%\tF1-score:68.65%\n",
      "Lambda 0.01:\taccuracy: 70.73%\tF1-score:70.73%\n",
      "Lambda 0.1:\taccuracy: 76.13%\tF1-score:76.13%\n",
      "Lambda 1:\taccuracy: 78.93%\tF1-score:78.93%\n",
      "Lambda 10:\taccuracy: 75.34%\tF1-score:75.34%\n",
      "Lambda 100:\taccuracy: 65.98%\tF1-score:65.98%\n"
     ]
    }
   ],
   "source": [
    "lbds = [0.001, 0.01, 0.1, 1, 10,  100]\n",
    "\n",
    "### YOUR CODE STARTS HERE ### (≈ approx 5 lines of code)\n",
    "for lbd in lbds:\n",
    "    # Create your regression model here, e.g., RidgeClassifier\n",
    "    reg = RidgeClassifier(alpha=lbd)\n",
    "    \n",
    "    # Use the produced features from the previous cell and corresponding labels training set\n",
    "\n",
    "    reg.fit(X_train_freq, Y_train)\n",
    "    # predict using the validation features created in the previous cell\n",
    "    y_pred = reg.predict(X_val_freq)\n",
    "    \n",
    "    # measure the accuracy and f1 using y_pred and val labels \n",
    "    f1 = f1_score(Y_val, y_pred, average = 'micro')\n",
    "    accuracy = accuracy_score(Y_val, y_pred)\n",
    "    print(\"Lambda {}:\\taccuracy: {:.2f}%\\tF1-score:{:.2f}%\".format(lbd, accuracy*100, f1*100))\n",
    "### YOUR CODE ENDS HERE ### (≈ approx 4 lines of code)"
   ]
  },
  {
   "cell_type": "markdown",
   "metadata": {},
   "source": [
    "**Expected Output for Lambda, accuracy, F1-score**: \n",
    "<table style=\"width:50%\">\n",
    "  <tr>\n",
    "    <th>Lambda</th>\n",
    "    <th>Accuracy</th>\n",
    "    <th>F1-score</th>\n",
    "  </tr>\n",
    "  <tr>\n",
    "    <td>0.001</td>\n",
    "    <td>64.38%</td>\n",
    "    <td>64.38%</td>\n",
    "  </tr>\n",
    "  <tr>\n",
    "    <td>0.01</td>\n",
    "    <td>68.14%</td>\n",
    "    <td>68.14%</td>\n",
    "  </tr>\n",
    "  <tr>\n",
    "    <td>0.1</td>\n",
    "    <td>73.80%</td>\n",
    "    <td>73.80%</td>\n",
    "  </tr>\n",
    "  <tr>\n",
    "    <td>1</td>\n",
    "    <td>77.63%</td>\n",
    "    <td>77.63%</td>\n",
    "  </tr>\n",
    "  <tr>\n",
    "    <td>10</td>\n",
    "    <td>74.83%</td>\n",
    "    <td>74.83%</td>\n",
    "  </tr>\n",
    "  <tr>\n",
    "    <td>100</td>\n",
    "    <td>65.81%</td>\n",
    "    <td>65.81%</td>\n",
    "  </tr>\n",
    "</table>\n",
    "\n",
    "\n",
    "Please be aware that while your accuracy and F1 score may not precisely match the provided expected output, they should fall within a range of the expected values, allowing for a deviation of approximately ±10%."
   ]
  },
  {
   "cell_type": "markdown",
   "metadata": {},
   "source": [
    "## Model Selection and Testing"
   ]
  },
  {
   "cell_type": "markdown",
   "metadata": {},
   "source": [
    "Choose your best model out of all the models you tried and then evaluate the selected model on the test data. You should report the accuracy of the selected model and its F-measure."
   ]
  },
  {
   "cell_type": "code",
   "execution_count": 14,
   "metadata": {},
   "outputs": [
    {
     "name": "stdout",
     "output_type": "stream",
     "text": [
      "Lambda 1:\taccuracy: 78.48%\tF1-score:78.48%\n"
     ]
    }
   ],
   "source": [
    "# Train your best model, i.e., the model with the highest accuracy reported before\n",
    "# Report the model's accuracy and F-measure\n",
    "\n",
    "### YOUR CODE STARTS HERE ### (≈ 7 lines of code)\n",
    "\n",
    "# Assign the best regularization parameter identified earlier\n",
    "best_lbd = 1\n",
    "\n",
    "# Instantiate the regression model (RidgeClassifier) with the best lambda value \n",
    "# and train it on the entire training set.\n",
    "# Use appropriate features tfidf training set and labels (Y_train) here\n",
    "\n",
    "reg = RidgeClassifier(alpha = best_lbd)\n",
    "reg.fit(X_train_freq, Y_train)\n",
    "\n",
    "# Make Predictions and Calculate F-measure:\n",
    "# Make predictions on the test set and calculate the F-measure.\n",
    "y_pred = reg.predict(X_test_freq)\n",
    "test_f1 = f1_score(Y_test, y_pred, average = 'micro')\n",
    "# Evaluate the Model on the Test Set:\n",
    "# Test the trained model on the test set and calculate its accuracy.\n",
    "# Use appropriate features tfidf testing set and labels (Y_test) here\n",
    "test_accuracy = accuracy_score(Y_test, y_pred)\n",
    "print(\"Lambda 1:\\taccuracy: {:.2f}%\\tF1-score:{:.2f}%\".format(test_accuracy*100, test_f1*100))\n",
    "\n",
    "### YOUR CODE ENDS HERE ###"
   ]
  },
  {
   "cell_type": "markdown",
   "metadata": {},
   "source": [
    "**Expected Output for Your best Lambda, accuracy, F1-score**: \n",
    "<table style=\"width:50%\">\n",
    "  <tr>\n",
    "    <th>Lambda</th>\n",
    "    <th>Accuracy</th>\n",
    "    <th>F1-score</th>\n",
    "  </tr>\n",
    "   <tr>\n",
    "    <td>**YOUR BEST LAMBDA**</td>\n",
    "    <td>78.79%</td>\n",
    "    <td>78.79%</td>\n",
    "  </tr>\n",
    "</table>\n",
    "\n",
    "Please be aware that while your accuracy and F1 score may not precisely match the provided expected output, they should fall within a range of the expected values, allowing for a deviation of approximately ±10%."
   ]
  }
 ],
 "metadata": {
  "kernelspec": {
   "display_name": "Python 3 (ipykernel)",
   "language": "python",
   "name": "python3"
  },
  "language_info": {
   "codemirror_mode": {
    "name": "ipython",
    "version": 3
   },
   "file_extension": ".py",
   "mimetype": "text/x-python",
   "name": "python",
   "nbconvert_exporter": "python",
   "pygments_lexer": "ipython3",
   "version": "3.12.4"
  }
 },
 "nbformat": 4,
 "nbformat_minor": 4
}
